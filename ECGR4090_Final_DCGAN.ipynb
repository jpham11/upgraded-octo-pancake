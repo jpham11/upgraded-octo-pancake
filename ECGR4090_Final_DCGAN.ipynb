{
  "nbformat": 4,
  "nbformat_minor": 0,
  "metadata": {
    "colab": {
      "provenance": []
    },
    "kernelspec": {
      "name": "python3",
      "display_name": "Python 3"
    },
    "language_info": {
      "name": "python"
    }
  },
  "cells": [
    {
      "cell_type": "code",
      "source": [
        "#from google.colab import drive\n",
        "#drive.mount('/content/gdrive/')"
      ],
      "metadata": {
        "id": "8AcZgSamHlSi",
        "colab": {
          "base_uri": "https://localhost:8080/"
        },
        "outputId": "00cffffd-502b-4eb8-d16f-d8a74592e024"
      },
      "execution_count": null,
      "outputs": [
        {
          "output_type": "stream",
          "name": "stdout",
          "text": [
            "Mounted at /content/gdrive/\n"
          ]
        }
      ]
    },
    {
      "cell_type": "code",
      "execution_count": null,
      "metadata": {
        "id": "2lCIHoqYHedf"
      },
      "outputs": [],
      "source": [
        "import os\n",
        "import tensorflow as tf\n",
        "from tensorflow.keras import layers\n",
        "import numpy as np\n",
        "from PIL import Image\n",
        "import glob\n",
        "import time\n",
        "import matplotlib.pyplot as plt\n",
        "from tensorflow.keras.preprocessing import image_dataset_from_directory"
      ]
    },
    {
      "cell_type": "code",
      "source": [
        "# Define paths\n",
        "# data_dir = '/content/gdrive/MyDrive/sickle3-edofed/'\n",
        "data_dir = 'C:/Users/billy/Documents/PythonScripts/converted_cells_dataset'"
      ],
      "metadata": {
        "id": "DD0VF6KULQVA"
      },
      "execution_count": null,
      "outputs": []
    },
    {
      "cell_type": "code",
      "source": [
        "# Training parameters\n",
        "epochs = 50\n",
        "batch_size = 16\n",
        "image_size = 64\n",
        "latent_dim = 128\n",
        "gp_weight = 10.0"
      ],
      "metadata": {
        "id": "9Urld3ZAPMJ8"
      },
      "execution_count": null,
      "outputs": []
    },
    {
      "cell_type": "code",
      "source": [
        "# input_dir = 'C:/Users/billy/Documents/PythonScripts/cells_dataset'\n",
        "# output_dir = 'C:/Users/billy/Documents/PythonScripts/converted_cells_dataset'\n",
        "\n",
        "# if not os.path.exists(output_dir):\n",
        "#     os.makedirs(output_dir)\n",
        "\n",
        "# for subdir, dirs, files in os.walk(input_dir):\n",
        "#     for file in files:\n",
        "#         if file.lower().endswith('.tiff'):\n",
        "#             input_path = os.path.join(subdir, file)\n",
        "#             output_subdir = subdir.replace(input_dir, output_dir)\n",
        "#             os.makedirs(output_subdir, exist_ok=True)\n",
        "#             output_path = os.path.join(output_subdir, file[:-5] + '.png')\n",
        "\n",
        "#             with Image.open(input_path) as img:\n",
        "#                 img.save(output_path)\n"
      ],
      "metadata": {
        "id": "4ahhzRowRRnp"
      },
      "execution_count": null,
      "outputs": []
    },
    {
      "cell_type": "code",
      "source": [
        "# Load dataset\n",
        "def load_images(data_dir, image_size, batch_size):\n",
        "    dataset = image_dataset_from_directory(\n",
        "        data_dir,\n",
        "        label_mode=None,\n",
        "        color_mode='rgb',\n",
        "        batch_size=batch_size,\n",
        "        image_size=(image_size, image_size),\n",
        "        shuffle=True,\n",
        "        seed=42,\n",
        "    )\n",
        "    dataset = dataset.map(lambda x: x / 255.0)\n",
        "    return dataset"
      ],
      "metadata": {
        "id": "MPSq8IfiIDuj"
      },
      "execution_count": null,
      "outputs": []
    },
    {
      "cell_type": "code",
      "source": [
        "# Create the generator\n",
        "def create_generator(latent_dim, channels):\n",
        "    model = tf.keras.Sequential()\n",
        "    model.add(layers.Input(shape=(latent_dim,)))\n",
        "    model.add(layers.Dense(4 * 4 * 512))\n",
        "    model.add(layers.Reshape((4, 4, 512)))\n",
        "    model.add(layers.BatchNormalization())\n",
        "    model.add(layers.ReLU())\n",
        "\n",
        "    model.add(layers.Conv2DTranspose(256, kernel_size=5, strides=2, padding='same'))\n",
        "    model.add(layers.BatchNormalization())\n",
        "    model.add(layers.ReLU())\n",
        "\n",
        "    model.add(layers.Conv2DTranspose(128, kernel_size=5, strides=2, padding='same'))\n",
        "    model.add(layers.BatchNormalization())\n",
        "    model.add(layers.ReLU())\n",
        "\n",
        "    model.add(layers.Conv2DTranspose(64, kernel_size=5, strides=2, padding='same'))\n",
        "    model.add(layers.BatchNormalization())\n",
        "    model.add(layers.ReLU())\n",
        "\n",
        "    model.add(layers.Conv2DTranspose(32, kernel_size=5, strides=2, padding='same'))\n",
        "    model.add(layers.BatchNormalization())\n",
        "    model.add(layers.ReLU())\n",
        "\n",
        "    model.add(layers.Conv2DTranspose(channels, kernel_size=5, strides=1, padding='same', activation='tanh'))\n",
        "    return model"
      ],
      "metadata": {
        "id": "EEdMmdlMIIoU"
      },
      "execution_count": null,
      "outputs": []
    },
    {
      "cell_type": "code",
      "source": [
        "# Create the discriminator\n",
        "def create_discriminator(image_shape):\n",
        "    model = tf.keras.Sequential()\n",
        "    model.add(layers.Input(shape=image_shape))\n",
        "\n",
        "    model.add(layers.Conv2D(32, kernel_size=5, strides=2, padding='same'))\n",
        "    model.add(layers.LeakyReLU(alpha=0.2))\n",
        "\n",
        "    model.add(layers.Conv2D(64, kernel_size=5, strides=2, padding='same'))\n",
        "    model.add(layers.BatchNormalization())\n",
        "    model.add(layers.LeakyReLU(alpha=0.2))\n",
        "\n",
        "    model.add(layers.Conv2D(128, kernel_size=5, strides=2, padding='same'))\n",
        "    model.add(layers.BatchNormalization())\n",
        "    model.add(layers.LeakyReLU(alpha=0.2))\n",
        "\n",
        "    model.add(layers.Conv2D(256, kernel_size=5, strides=2, padding='same'))\n",
        "    model.add(layers.BatchNormalization())\n",
        "    model.add(layers.LeakyReLU(alpha=0.2))\n",
        "\n",
        "    model.add(layers.Flatten())\n",
        "    model.add(layers.Dense(1))\n",
        "    return model"
      ],
      "metadata": {
        "id": "Gs3f3ECKILHM"
      },
      "execution_count": null,
      "outputs": []
    },
    {
      "cell_type": "code",
      "source": [
        "# Define loss and optimizers\n",
        "cross_entropy = tf.keras.losses.BinaryCrossentropy(from_logits=True)\n",
        "generator_optimizer = tf.keras.optimizers.Adam(1e-4)\n",
        "discriminator_optimizer = tf.keras.optimizers.Adam(1e-4)\n",
        "\n",
        "def discriminator_loss(real_output, fake_output):\n",
        "    real_loss = tf.reduce_mean(tf.nn.relu(1.0 - real_output))\n",
        "    fake_loss = tf.reduce_mean(tf.nn.relu(1.0 + fake_output))\n",
        "    total_loss = real_loss + fake_loss\n",
        "    return total_loss\n",
        "\n",
        "def generator_loss(fake_output):\n",
        "    return cross_entropy(tf.ones_like(fake_output), fake_output)"
      ],
      "metadata": {
        "id": "OCRVDFtYINEZ"
      },
      "execution_count": null,
      "outputs": []
    },
    {
      "cell_type": "code",
      "source": [
        "# Define gradient\n",
        "@tf.function\n",
        "def gradient_penalty(real_images, fake_images, discriminator):\n",
        "    alpha = tf.random.normal([real_images.shape[0], 1, 1, 1], 0.0, 1.0)\n",
        "    interpolates = alpha * real_images + (1 - alpha) * fake_images\n",
        "    with tf.GradientTape() as tape:\n",
        "        tape.watch(interpolates)\n",
        "        d_interpolates = discriminator(interpolates)\n",
        "    gradients = tape.gradient(d_interpolates, [interpolates])[0]\n",
        "    slopes = tf.sqrt(tf.reduce_sum(tf.square(gradients), axis=[1, 2, 3]))\n",
        "    gradient_penalty = tf.reduce_mean((slopes - 1.0) ** 2)\n",
        "    return gradient_penalty"
      ],
      "metadata": {
        "id": "jorGjeErDrWK"
      },
      "execution_count": null,
      "outputs": []
    },
    {
      "cell_type": "code",
      "source": [
        "# Define the training loop\n",
        "@tf.function\n",
        "def train_step(images, generator, discriminator, generator_optimizer, discriminator_optimizer):\n",
        "    noise = tf.random.normal([images.shape[0], latent_dim])\n",
        "\n",
        "    with tf.GradientTape() as gen_tape, tf.GradientTape() as disc_tape:\n",
        "        generated_images = generator(noise, training=True)\n",
        "\n",
        "        real_output = discriminator(images, training=True)\n",
        "        fake_output = discriminator(generated_images, training=True)\n",
        "\n",
        "        gen_loss = -tf.reduce_mean(fake_output)\n",
        "        disc_loss = tf.reduce_mean(fake_output) - tf.reduce_mean(real_output)\n",
        "\n",
        "        gp = gradient_penalty(images, generated_images, discriminator)\n",
        "        disc_loss += gp * gp_weight\n",
        "\n",
        "    gradients_of_generator = gen_tape.gradient(gen_loss, generator.trainable_variables)\n",
        "    gradients_of_discriminator = disc_tape.gradient(disc_loss, discriminator.trainable_variables)\n",
        "\n",
        "    generator_optimizer.apply_gradients(zip(gradients_of_generator, generator.trainable_variables))\n",
        "    discriminator_optimizer.apply_gradients(zip(gradients_of_discriminator, discriminator.trainable_variables))\n",
        "\n",
        "    return gen_loss, disc_loss"
      ],
      "metadata": {
        "id": "L5M1FDivIP37"
      },
      "execution_count": null,
      "outputs": []
    },
    {
      "cell_type": "code",
      "source": [
        "def generate_and_save_images(model, epoch, test_input):\n",
        "    # Generate images\n",
        "    predictions = model(test_input, training=False)\n",
        "\n",
        "    # Create a directory for generated images if it doesn't exist\n",
        "    output_dir = 'C:/Users/billy/Documents/PythonScripts/GAN_images'\n",
        "    os.makedirs(output_dir, exist_ok=True)\n",
        "\n",
        "    # Save the images\n",
        "    for i in range(predictions.shape[0]):\n",
        "        image_array = (predictions[i].numpy() * 127.5 + 127.5).astype(np.uint8)\n",
        "        img = Image.fromarray(image_array)\n",
        "        img.save(os.path.join(output_dir, f'image_at_epoch_{epoch:04d}_sample_{i}.png'))\n",
        "\n",
        "    print(f'Saved generated images for epoch {epoch}')"
      ],
      "metadata": {
        "id": "oyDTQNcMOtAu"
      },
      "execution_count": null,
      "outputs": []
    },
    {
      "cell_type": "code",
      "source": [
        "def train(dataset, epochs, generator, discriminator, generator_optimizer, discriminator_optimizer):\n",
        "    for epoch in range(epochs):\n",
        "        print(f\"Epoch {epoch + 1}/{epochs}\")\n",
        "        for i, image_batch in enumerate(dataset):\n",
        "            gen_loss, disc_loss = train_step(image_batch, generator, discriminator, generator_optimizer, discriminator_optimizer)\n",
        "            print(f\"Batch {i + 1}: gen_loss={gen_loss.numpy()}, disc_loss={disc_loss.numpy()}\")\n",
        "\n",
        "        if (epoch + 1) % 5 == 0:\n",
        "            generator.save(f\"generator_epoch_{epoch + 1}.h5\")"
      ],
      "metadata": {
        "id": "-HPZ89PHJKCx"
      },
      "execution_count": null,
      "outputs": []
    },
    {
      "cell_type": "code",
      "source": [
        "generator = create_generator(latent_dim, 3)\n",
        "discriminator = create_discriminator((image_size, image_size, 3))\n",
        "\n",
        "generator_optimizer = tf.keras.optimizers.Adam(learning_rate=0.0002, beta_1=0.5)\n",
        "discriminator_optimizer = tf.keras.optimizers.Adam(learning_rate=0.0002, beta_1=0.5)\n",
        "\n",
        "dataset = load_images(data_dir, image_size, batch_size)\n",
        "print(f\"Loaded {len(glob.glob(os.path.join(data_dir, '*/*')))} images\")\n",
        "\n",
        "train(dataset, epochs, generator, discriminator, generator_optimizer, discriminator_optimizer)"
      ],
      "metadata": {
        "id": "l4s0Tzg9QMLc"
      },
      "execution_count": null,
      "outputs": []
    },
    {
      "cell_type": "code",
      "source": [
        "if __name__ == '__main__':\n",
        "    # Load the dataset\n",
        "    images = load_images(data_dir)\n",
        "    print(f'Loaded {len(images)} images')\n",
        "\n",
        "    # Create a TensorFlow dataset\n",
        "    noise_dim = 100\n",
        "    num_examples_to_generate = 16\n",
        "    seed = tf.random.normal([num_examples_to_generate, noise_dim])\n",
        "    dataset = tf.data.Dataset.from_tensor_slices(images).shuffle(len(images)).batch(batch_size)\n",
        "\n",
        "    # Create generator and discriminator\n",
        "    generator = create_generator()\n",
        "    discriminator = create_discriminator()\n",
        "\n",
        "    # Train the GAN\n",
        "    train(dataset, epochs)\n",
        "\n",
        "    # Save the generator model\n",
        "    generator.save('/content/gdrive/MyDrive/gan_generator.h5')"
      ],
      "metadata": {
        "id": "ASpXXSzLJMI6"
      },
      "execution_count": null,
      "outputs": []
    },
    {
      "cell_type": "code",
      "source": [
        "# Generate Images\n",
        "def generate_and_save_images(model, epoch, test_input, output_dir):\n",
        "    # Generate images using the test_input\n",
        "    predictions = model(test_input, training=False)\n",
        "\n",
        "    # Create the output directory if it doesn't exist\n",
        "    if not os.path.exists(output_dir):\n",
        "        os.makedirs(output_dir)\n",
        "\n",
        "    # Plot and save the generated images\n",
        "    fig = plt.figure(figsize=(4, 4))\n",
        "    for i in range(predictions.shape[0]):\n",
        "        plt.subplot(4, 4, i+1)\n",
        "        plt.imshow((predictions[i] + 1) / 2)\n",
        "        plt.axis('off')\n",
        "\n",
        "    plt.savefig(os.path.join(output_dir, f'image_at_epoch_{epoch:04d}.png'))\n",
        "    plt.show()"
      ],
      "metadata": {
        "id": "Sq0uUoIn5JXH"
      },
      "execution_count": null,
      "outputs": []
    },
    {
      "cell_type": "code",
      "source": [
        "# Number of images to generate (e.g., 16)\n",
        "num_examples_to_generate = 8\n",
        "\n",
        "# Generate random noise as input for the generator\n",
        "seed = tf.random.normal([num_examples_to_generate, noise_dim])"
      ],
      "metadata": {
        "id": "HUIms5cu5Ve6"
      },
      "execution_count": null,
      "outputs": []
    },
    {
      "cell_type": "code",
      "source": [
        "generate_and_save_images(generator, epoch=epochs, test_input=seed, output_dir='generated_images')"
      ],
      "metadata": {
        "id": "Ns0tidpL5bZN"
      },
      "execution_count": null,
      "outputs": []
    }
  ]
}